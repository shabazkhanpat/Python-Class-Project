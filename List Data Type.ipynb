{
 "cells": [
  {
   "cell_type": "code",
   "execution_count": 1,
   "metadata": {},
   "outputs": [],
   "source": [
    "#Introduction To List Data Type in Python\n",
    "\n",
    "#Defn: A list is defined as an ordered collection of items\n",
    "       # A list is classified as a mutable data type i.e;we can change or do alterations in it.\n",
    "       # It is defined as '[]'"
   ]
  },
  {
   "cell_type": "code",
   "execution_count": 8,
   "metadata": {},
   "outputs": [
    {
     "name": "stdout",
     "output_type": "stream",
     "text": [
      "<class 'list'>\n"
     ]
    }
   ],
   "source": [
    "# how to determine the datatype :\n",
    "#lets take an eg:\n",
    "my_squad = ['sachin','sehwag','dravid','zaheer khan','rohit sharma','anil kumble','kl rahul']\n",
    "print(type(my_squad))"
   ]
  },
  {
   "cell_type": "code",
   "execution_count": 9,
   "metadata": {},
   "outputs": [
    {
     "name": "stdout",
     "output_type": "stream",
     "text": [
      "dravid\n"
     ]
    }
   ],
   "source": [
    "# how to do indexing in List Datatype:\n",
    "# by default the indexing in list starts from 0,1,2,3....so on\n",
    "# so if we want to know index of 'dravid' from my_list then:\n",
    "print(my_squad[2])"
   ]
  },
  {
   "cell_type": "code",
   "execution_count": 10,
   "metadata": {},
   "outputs": [
    {
     "name": "stdout",
     "output_type": "stream",
     "text": [
      "['sachin', 'Ganguly', 'dravid', 'zaheer khan', 'rohit sharma', 'anil kumble', 'kl rahul']\n"
     ]
    }
   ],
   "source": [
    "# if we want to replace/modify any element in our list then and we want to change sehwag to Ganguly then need to do the following\n",
    "my_squad = ['sachin','sehwag','dravid','zaheer khan','rohit sharma','anil kumble','kl rahul']\n",
    "my_squad[1] = 'Ganguly' # we need to assign new variable to the respective index\n",
    "print(my_squad)"
   ]
  },
  {
   "cell_type": "code",
   "execution_count": 11,
   "metadata": {},
   "outputs": [
    {
     "name": "stdout",
     "output_type": "stream",
     "text": [
      "['sachin', 'Ganguly', 'dravid', 'zaheer khan', 'rohit sharma', 'anil kumble', 'kl rahul', 'ms dhoni']\n"
     ]
    }
   ],
   "source": [
    "# if we want to add a particular player down the list we use .append method\n",
    "my_squad.append('ms dhoni')\n",
    "print(my_squad)"
   ]
  },
  {
   "cell_type": "code",
   "execution_count": 12,
   "metadata": {},
   "outputs": [
    {
     "name": "stdout",
     "output_type": "stream",
     "text": [
      "['sachin', 'Ganguly', 'dravid', 'virat kohli', 'zaheer khan', 'rohit sharma', 'anil kumble', 'kl rahul', 'ms dhoni']\n"
     ]
    }
   ],
   "source": [
    "# if we want add a player at a particular index then we use .insert method\n",
    "my_squad.insert(3,'virat kohli')\n",
    "print(my_squad)"
   ]
  },
  {
   "cell_type": "code",
   "execution_count": 14,
   "metadata": {},
   "outputs": [
    {
     "name": "stdout",
     "output_type": "stream",
     "text": [
      "['sachin', 'Ganguly', 'dravid', 'virat kohli', 'anil kumble', 'kl rahul', 'ms dhoni']\n"
     ]
    }
   ],
   "source": [
    "# if we want to delete a particular player from our squad then we use del method\n",
    "del my_squad[4]\n",
    "print(my_squad)"
   ]
  },
  {
   "cell_type": "code",
   "execution_count": 17,
   "metadata": {},
   "outputs": [
    {
     "name": "stdout",
     "output_type": "stream",
     "text": [
      "kl rahul\n",
      "['sachin', 'Ganguly', 'dravid', 'virat kohli', 'anil kumble']\n"
     ]
    }
   ],
   "source": [
    "# we can use another method called as .pop method to delete element\n",
    "# .pop method always deletes the last element in the list\n",
    "x = my_squad.pop()\n",
    "print(x)\n",
    "print(my_squad)"
   ]
  },
  {
   "cell_type": "code",
   "execution_count": null,
   "metadata": {},
   "outputs": [],
   "source": []
  }
 ],
 "metadata": {
  "kernelspec": {
   "display_name": "Python 3",
   "language": "python",
   "name": "python3"
  },
  "language_info": {
   "codemirror_mode": {
    "name": "ipython",
    "version": 3
   },
   "file_extension": ".py",
   "mimetype": "text/x-python",
   "name": "python",
   "nbconvert_exporter": "python",
   "pygments_lexer": "ipython3",
   "version": "3.7.6"
  }
 },
 "nbformat": 4,
 "nbformat_minor": 4
}
